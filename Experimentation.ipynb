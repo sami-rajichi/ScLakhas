{
 "cells": [
  {
   "cell_type": "markdown",
   "metadata": {},
   "source": [
    "<center><h1>Health and Genetics Text Summarizer with LAKHAS Architecture</h1></center>\n",
    "\n",
    "<h2>Project Overview:</h2>\n",
    "<p>\n",
    "Develop an automatic text summarization system specialized for health and genetics scientific texts, implementing the LAKHAS architecture proposed by Fouad Soufiane Douzidia (University of Montreal) in 2004. This project aims to create a robust tool capable of processing and summarizing scientific documents in the health and genetics domain, leveraging the principles of the LAKHAS architecture.\n",
    "</p>\n",
    "\n",
    "<h2>LAKHAS Architecture Description:</h2>\n",
    "<p>\n",
    "The LAKHAS architecture, originally designed for Arabic texts, is primarily based on extraction techniques for automatic summarization. Developed by Fouad Soufiane Douzidia, it provides a functional implementation through key components:\n",
    "</p>\n",
    "\n",
    "<ul>\n",
    "<li><strong>Linguistic Analysis (LA):</strong> The text undergoes linguistic analysis, including segmentation at various levels. This is crucial for breaking down the scientific document into meaningful units, laying the groundwork for subsequent processing.</li>\n",
    "\n",
    "<li><strong>Text Segmentation into Phrases:</strong> Divide the text into phrases, essential for subsequent linguistic and semantic analysis.</li>\n",
    "\n",
    "<li><strong>Phrases Segmentation into Words:</strong> Further break down each phrase into individual words, facilitating detailed analysis.</li>\n",
    "\n",
    "<li><strong>Normalization:</strong> Standardize the text by converting uppercase to lowercase, handling acronyms, and ensuring consistent formatting of values like dates and numbers.</li>\n",
    "\n",
    "<li><strong>Removal of Stopwords:</strong> Eliminate common stopwords to focus on meaningful content during analysis.</li>\n",
    "\n",
    "<li><strong>Lemmatization:</strong> Reduce words to their base or root form, aiding in semantic analysis and improving the accuracy of weight calculations.</li>\n",
    "\n",
    "<li><strong>Frequency Calculation:</strong> Determine the frequency of each word in the processed text to assess its significance.</li>\n",
    "\n",
    " <li><strong>Weights Calculation of Phrases:</strong> Assign weights to phrases based on various criteria, including cue phrases, keywords, title words, position, and connectivity of sentences.</li>\n",
    "\n",
    "<li><strong>Extraction of N Most Weighted Phrases:</strong> Obtain a concise summary by extracting the N most weighted phrases from the processed text.</li>\n",
    "</ul>\n",
    "\n",
    "<center><img src=\"./LAKHAS.PNG\" alt=\"System Architecture Diagram\" style=\"max-width: 100%; height: auto;\">\n",
    "</center>\n",
    "\n",
    "<h2>Implementation Steps:</h2>\n",
    "\n",
    "<ol>\n",
    "<li><strong>Linguistic Analysis (LA):</strong> The text undergoes linguistic analysis, including segmentation at various levels. This is crucial for breaking down the scientific document into meaningful units, laying the groundwork for subsequent processing.</li>\n",
    "\n",
    "<li><strong>Text Segmentation into Phrases:</strong> Divide the text into phrases, essential for subsequent linguistic and semantic analysis.</li>\n",
    "\n",
    "<li><strong>Phrases Segmentation into Words:</strong> Further break down each phrase into individual words, facilitating detailed analysis.</li>\n",
    "\n",
    "<li><strong>Normalization:</strong> Standardize the text by converting uppercase to lowercase, handling acronyms, and ensuring consistent formatting of values like dates and numbers.</li>\n",
    "\n",
    "<li><strong>Removal of Stopwords:</strong> Eliminate common stopwords to focus on meaningful content during analysis.</li>\n",
    "\n",
    "<li><strong>Lemmatization:</strong> Reduce words to their base or root form, aiding in semantic analysis and improving the accuracy of weight calculations.</li>\n",
    "\n",
    "<li><strong>Frequency Calculation:</strong> Determine the frequency of each word in the processed text to assess its significance.</li>\n",
    "\n",
    "<li><strong>Weights Calculation of Phrases:</strong> Assign weights to phrases based on various criteria, including cue phrases, keywords, title words, position, and connectivity of sentences.</li>\n",
    "\n",
    "<li><strong>Extraction of N Most Weighted Phrases:</strong> Obtain a concise summary by extracting the N most weighted phrases from the processed text.</li>\n",
    "</ol>"
   ]
  },
  {
   "cell_type": "markdown",
   "metadata": {},
   "source": [
    "### **Import Libraries and Resources**"
   ]
  },
  {
   "cell_type": "code",
   "execution_count": null,
   "metadata": {},
   "outputs": [],
   "source": [
    "import nltk\n",
    "\n",
    "# Download NLTK resources\n",
    "nltk.download('punkt')\n",
    "nltk.download('stopwords')\n",
    "nltk.download('wordnet')\n",
    "\n",
    "from scientific_lakhas import ScLakhas\n"
   ]
  },
  {
   "cell_type": "markdown",
   "metadata": {},
   "source": [
    "### **Experimentation**"
   ]
  },
  {
   "cell_type": "code",
   "execution_count": null,
   "metadata": {},
   "outputs": [],
   "source": [
    "# Experimentation\n",
    "with open('./choose_text_file.txt', 'r') as f:\n",
    "    text = f.read()\n",
    "\n",
    "# Make sure to choose num_phrases less than length of text (in terms of lines)\n",
    "lakhas = ScLakhas(num_phrases=8, input_text=text)\n",
    "lakhas.summarize()"
   ]
  }
 ],
 "metadata": {
  "kernelspec": {
   "display_name": "base",
   "language": "python",
   "name": "python3"
  },
  "language_info": {
   "codemirror_mode": {
    "name": "ipython",
    "version": 3
   },
   "file_extension": ".py",
   "mimetype": "text/x-python",
   "name": "python",
   "nbconvert_exporter": "python",
   "pygments_lexer": "ipython3",
   "version": "3.9.16"
  }
 },
 "nbformat": 4,
 "nbformat_minor": 2
}
